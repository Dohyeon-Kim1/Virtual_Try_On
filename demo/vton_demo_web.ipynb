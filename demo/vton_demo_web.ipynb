{
  "nbformat": 4,
  "nbformat_minor": 0,
  "metadata": {
    "colab": {
      "provenance": [],
      "machine_shape": "hm",
      "gpuType": "T4"
    },
    "kernelspec": {
      "name": "python3",
      "display_name": "Python 3"
    },
    "language_info": {
      "name": "python"
    },
    "accelerator": "GPU"
  },
  "cells": [
    {
      "cell_type": "markdown",
      "source": [
        "### **Enviroment Set-up**"
      ],
      "metadata": {
        "id": "1NT4bIcjZRvO"
      }
    },
    {
      "cell_type": "code",
      "execution_count": null,
      "metadata": {
        "id": "qu1RnjHPmbd1"
      },
      "outputs": [],
      "source": [
        "## git clone repository\n",
        "!git clone -q https://github.com/Dohyeon-Kim1/Virtual_Try_On.git VTON\n",
        "\n",
        "## set directory\n",
        "%cd /content/VTON\n",
        "\n",
        "## install required pacakges\n",
        "!pip install -q accelerate==0.26.1\n",
        "!pip install -q diffusers==0.14.0\n",
        "!pip install -q transformers==4.27.3\n",
        "!pip install -q ftfy==6.1.3\n",
        "!pip install -q clean-fid==0.1.35\n",
        "!pip install -q torchmetrics==1.3.0.post0\n",
        "!pip install -q opencv-contrib-python==4.8.0.76\n",
        "!pip install -q openmim==0.3.8\n",
        "!mim install -q mmcv==2.1.0\n",
        "!mim install -q mmengine==0.10.3\n",
        "!mim install -q mmpose==1.3.1\n",
        "!pip install -q xtcocotools==1.14.3\n",
        "!pip install -q munkres==1.1.4\n",
        "\n",
        "!pip install -q streamlit\n",
        "!pip install -q pyngrok"
      ]
    },
    {
      "cell_type": "markdown",
      "source": [
        "### **Web using Streamlit and Ngrok**"
      ],
      "metadata": {
        "id": "C8SD9L7UnZFT"
      }
    },
    {
      "cell_type": "code",
      "source": [
        "from pyngrok import ngrok\n",
        "!ngrok config add-authtoken YOUR_AUTHTOKEN"
      ],
      "metadata": {
        "colab": {
          "base_uri": "https://localhost:8080/"
        },
        "id": "uU_ezYiYo_dM",
        "outputId": "dde757d4-d529-4647-81ec-1193810a6cf9"
      },
      "execution_count": 3,
      "outputs": [
        {
          "output_type": "stream",
          "name": "stdout",
          "text": [
            "Authtoken saved to configuration file: /root/.config/ngrok/ngrok.yml\n"
          ]
        }
      ]
    },
    {
      "cell_type": "code",
      "source": [
        "!streamlit run app.py &>/dev/null&"
      ],
      "metadata": {
        "id": "E4lFS619pL1E"
      },
      "execution_count": 4,
      "outputs": []
    },
    {
      "cell_type": "code",
      "source": [
        "url = ngrok.connect(addr='8501')\n",
        "print(url)"
      ],
      "metadata": {
        "id": "QpCW1xkgpNGH"
      },
      "execution_count": null,
      "outputs": []
    }
  ]
}